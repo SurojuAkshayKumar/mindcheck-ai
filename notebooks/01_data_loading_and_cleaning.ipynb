{
 "cells": [
  {
   "cell_type": "code",
   "execution_count": 7,
   "id": "bd8bb70b",
   "metadata": {},
   "outputs": [
    {
     "name": "stdout",
     "output_type": "stream",
     "text": [
      " Loaded dataset with shape: (151377, 3)\n",
      " Columns: ['confession', 'target', 'upvote_ratio']\n"
     ]
    },
    {
     "data": {
      "text/html": [
       "<div>\n",
       "<style scoped>\n",
       "    .dataframe tbody tr th:only-of-type {\n",
       "        vertical-align: middle;\n",
       "    }\n",
       "\n",
       "    .dataframe tbody tr th {\n",
       "        vertical-align: top;\n",
       "    }\n",
       "\n",
       "    .dataframe thead th {\n",
       "        text-align: right;\n",
       "    }\n",
       "</style>\n",
       "<table border=\"1\" class=\"dataframe\">\n",
       "  <thead>\n",
       "    <tr style=\"text-align: right;\">\n",
       "      <th></th>\n",
       "      <th>confession</th>\n",
       "      <th>target</th>\n",
       "      <th>upvote_ratio</th>\n",
       "    </tr>\n",
       "  </thead>\n",
       "  <tbody>\n",
       "    <tr>\n",
       "      <th>0</th>\n",
       "      <td>New to Vyvanse... Do others get a heady rush f...</td>\n",
       "      <td>ADHD</td>\n",
       "      <td>1</td>\n",
       "    </tr>\n",
       "    <tr>\n",
       "      <th>1</th>\n",
       "      <td>why FUCK is a mental illness supposed to stay ...</td>\n",
       "      <td>OCD</td>\n",
       "      <td>1</td>\n",
       "    </tr>\n",
       "    <tr>\n",
       "      <th>2</th>\n",
       "      <td>PTSD? Hello. Sorry for my bad english but I ju...</td>\n",
       "      <td>ptsd</td>\n",
       "      <td>1</td>\n",
       "    </tr>\n",
       "    <tr>\n",
       "      <th>3</th>\n",
       "      <td>Found mould in my home Hi all, contamination O...</td>\n",
       "      <td>OCD</td>\n",
       "      <td>0.78</td>\n",
       "    </tr>\n",
       "    <tr>\n",
       "      <th>4</th>\n",
       "      <td>Honestly I wanna die.</td>\n",
       "      <td>depression</td>\n",
       "      <td>1</td>\n",
       "    </tr>\n",
       "  </tbody>\n",
       "</table>\n",
       "</div>"
      ],
      "text/plain": [
       "                                          confession      target upvote_ratio\n",
       "0  New to Vyvanse... Do others get a heady rush f...        ADHD            1\n",
       "1  why FUCK is a mental illness supposed to stay ...         OCD            1\n",
       "2  PTSD? Hello. Sorry for my bad english but I ju...        ptsd            1\n",
       "3  Found mould in my home Hi all, contamination O...         OCD         0.78\n",
       "4                             Honestly I wanna die.   depression            1"
      ]
     },
     "execution_count": 7,
     "metadata": {},
     "output_type": "execute_result"
    }
   ],
   "source": [
    "import pandas as pd\n",
    "import re\n",
    "import string\n",
    "\n",
    "# Load dataset\n",
    "data_path = \"../data/aimind_merged_title_body.csv\"\n",
    "df = pd.read_csv(data_path)\n",
    "\n",
    "print(\" Loaded dataset with shape:\", df.shape)\n",
    "print(\" Columns:\", df.columns.tolist())\n",
    "df.head()"
   ]
  },
  {
   "cell_type": "code",
   "execution_count": 8,
   "id": "0bebf896",
   "metadata": {},
   "outputs": [],
   "source": [
    "# Define text cleaning function\n",
    "def clean_text(text):\n",
    "    if pd.isnull(text):\n",
    "        return \"\"\n",
    "    \n",
    "    # Remove URLs\n",
    "    text = re.sub(r\"http\\S+|www\\S+|https\\S+\", \"\", text, flags=re.MULTILINE)\n",
    "    \n",
    "    # Remove HTML tags\n",
    "    text = re.sub(r'<.*?>', '', text)\n",
    "    \n",
    "    # Remove emojis/non-ASCII\n",
    "    text = re.sub(r\"[^\\x00-\\x7F]+\", \" \", text)\n",
    "    \n",
    "    # Lowercase\n",
    "    text = text.lower()\n",
    "    \n",
    "    # Remove all punctuation except ? and !\n",
    "    punctuation_to_remove = string.punctuation.replace(\"?\", \"\").replace(\"!\", \"\")\n",
    "    text = text.translate(str.maketrans('', '', punctuation_to_remove))\n",
    "    \n",
    "    # Remove extra whitespaces\n",
    "    text = re.sub(r'\\s+', ' ', text).strip()\n",
    "    \n",
    "    return text\n",
    "\n"
   ]
  },
  {
   "cell_type": "code",
   "execution_count": null,
   "id": "2154120f",
   "metadata": {},
   "outputs": [
    {
     "name": "stdout",
     "output_type": "stream",
     "text": [
      "✅ Cleaned dataset shape: (149175, 4)\n"
     ]
    },
    {
     "data": {
      "text/html": [
       "<div>\n",
       "<style scoped>\n",
       "    .dataframe tbody tr th:only-of-type {\n",
       "        vertical-align: middle;\n",
       "    }\n",
       "\n",
       "    .dataframe tbody tr th {\n",
       "        vertical-align: top;\n",
       "    }\n",
       "\n",
       "    .dataframe thead th {\n",
       "        text-align: right;\n",
       "    }\n",
       "</style>\n",
       "<table border=\"1\" class=\"dataframe\">\n",
       "  <thead>\n",
       "    <tr style=\"text-align: right;\">\n",
       "      <th></th>\n",
       "      <th>confession</th>\n",
       "      <th>clean_text</th>\n",
       "    </tr>\n",
       "  </thead>\n",
       "  <tbody>\n",
       "    <tr>\n",
       "      <th>88702</th>\n",
       "      <td>If only I never had to go to the bathroom... M...</td>\n",
       "      <td>if only i never had to go to the bathroom my l...</td>\n",
       "    </tr>\n",
       "    <tr>\n",
       "      <th>105388</th>\n",
       "      <td>What do you do when you can't remember if you ...</td>\n",
       "      <td>what do you do when you cant remember if you t...</td>\n",
       "    </tr>\n",
       "    <tr>\n",
       "      <th>60546</th>\n",
       "      <td>Hi Hi, I'm 23 and I'm from Brazil. I've been d...</td>\n",
       "      <td>hi hi im 23 and im from brazil ive been dealin...</td>\n",
       "    </tr>\n",
       "    <tr>\n",
       "      <th>57308</th>\n",
       "      <td>What is your clothes routines? For me I have w...</td>\n",
       "      <td>what is your clothes routines? for me i have w...</td>\n",
       "    </tr>\n",
       "    <tr>\n",
       "      <th>73441</th>\n",
       "      <td>TW: sexual assault, TSA nightmare</td>\n",
       "      <td>tw sexual assault tsa nightmare</td>\n",
       "    </tr>\n",
       "  </tbody>\n",
       "</table>\n",
       "</div>"
      ],
      "text/plain": [
       "                                               confession  \\\n",
       "88702   If only I never had to go to the bathroom... M...   \n",
       "105388  What do you do when you can't remember if you ...   \n",
       "60546   Hi Hi, I'm 23 and I'm from Brazil. I've been d...   \n",
       "57308   What is your clothes routines? For me I have w...   \n",
       "73441                  TW: sexual assault, TSA nightmare    \n",
       "\n",
       "                                               clean_text  \n",
       "88702   if only i never had to go to the bathroom my l...  \n",
       "105388  what do you do when you cant remember if you t...  \n",
       "60546   hi hi im 23 and im from brazil ive been dealin...  \n",
       "57308   what is your clothes routines? for me i have w...  \n",
       "73441                     tw sexual assault tsa nightmare  "
      ]
     },
     "execution_count": 9,
     "metadata": {},
     "output_type": "execute_result"
    }
   ],
   "source": [
    "if \"confession\" not in df.columns:\n",
    "    raise ValueError(\"❌ The dataset does not have a 'confession' column.\")\n",
    "\n",
    "df[\"clean_text\"] = df[\"confession\"].apply(clean_text)\n",
    "\n",
    "# Remove empty or very short cleaned entries\n",
    "df = df[df[\"clean_text\"].str.strip().astype(bool)]\n",
    "df = df[df[\"clean_text\"].str.len() > 10]\n",
    "\n",
    "print(\" Cleaned dataset shape:\", df.shape)\n",
    "df[[\"confession\", \"clean_text\"]].sample(5)\n"
   ]
  },
  {
   "cell_type": "code",
   "execution_count": 11,
   "id": "5574d4b3",
   "metadata": {},
   "outputs": [
    {
     "name": "stdout",
     "output_type": "stream",
     "text": [
      "✅ Cleaned dataset saved to ../data/aimind_cleaned.csv\n"
     ]
    }
   ],
   "source": [
    "output_path = \"../data/aimind_cleaned.csv\"\n",
    "df.to_csv(output_path, index=False)\n",
    "print(f\"✅ Cleaned dataset saved to {output_path}\")\n"
   ]
  },
  {
   "cell_type": "markdown",
   "id": "1e45ed60",
   "metadata": {},
   "source": []
  }
 ],
 "metadata": {
  "kernelspec": {
   "display_name": "Python (lda_env)",
   "language": "python",
   "name": "lda_env"
  },
  "language_info": {
   "codemirror_mode": {
    "name": "ipython",
    "version": 3
   },
   "file_extension": ".py",
   "mimetype": "text/x-python",
   "name": "python",
   "nbconvert_exporter": "python",
   "pygments_lexer": "ipython3",
   "version": "3.10.16"
  }
 },
 "nbformat": 4,
 "nbformat_minor": 5
}
