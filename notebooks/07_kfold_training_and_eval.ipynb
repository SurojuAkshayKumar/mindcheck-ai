{
 "cells": [
  {
   "cell_type": "code",
   "execution_count": 1,
   "id": "910ab17f",
   "metadata": {},
   "outputs": [],
   "source": [
    "# 06_kfold_training_and_eval.ipynb\n",
    "\n",
    "import pandas as pd, numpy as np\n",
    "from sklearn.model_selection import StratifiedKFold\n",
    "from sklearn.feature_extraction.text import TfidfVectorizer\n",
    "from sklearn.svm import LinearSVC\n",
    "from sklearn.metrics import classification_report, f1_score, accuracy_score\n",
    "import joblib\n",
    "import os"
   ]
  },
  {
   "cell_type": "code",
   "execution_count": 2,
   "id": "5eb16fe7",
   "metadata": {},
   "outputs": [
    {
     "name": "stderr",
     "output_type": "stream",
     "text": [
      "C:\\Users\\ASUS-PC\\AppData\\Local\\Temp\\ipykernel_18676\\2610797308.py:8: DtypeWarning: Columns (2) have mixed types. Specify dtype option on import or set low_memory=False.\n",
      "  df = pd.read_csv(DATA)\n",
      "c:\\Users\\ASUS-PC\\anaconda3\\envs\\lda_env\\lib\\site-packages\\sklearn\\model_selection\\_split.py:805: UserWarning: The least populated class in y has only 1 members, which is less than n_splits=5.\n",
      "  warnings.warn(\n"
     ]
    },
    {
     "name": "stdout",
     "output_type": "stream",
     "text": [
      "\n",
      "Fold 1 — Acc: 0.7974 | F1(w): 0.7973\n"
     ]
    },
    {
     "name": "stderr",
     "output_type": "stream",
     "text": [
      "c:\\Users\\ASUS-PC\\anaconda3\\envs\\lda_env\\lib\\site-packages\\sklearn\\metrics\\_classification.py:1565: UndefinedMetricWarning: Precision is ill-defined and being set to 0.0 in labels with no predicted samples. Use `zero_division` parameter to control this behavior.\n",
      "  _warn_prf(average, modifier, f\"{metric.capitalize()} is\", len(result))\n",
      "c:\\Users\\ASUS-PC\\anaconda3\\envs\\lda_env\\lib\\site-packages\\sklearn\\metrics\\_classification.py:1565: UndefinedMetricWarning: Precision is ill-defined and being set to 0.0 in labels with no predicted samples. Use `zero_division` parameter to control this behavior.\n",
      "  _warn_prf(average, modifier, f\"{metric.capitalize()} is\", len(result))\n",
      "c:\\Users\\ASUS-PC\\anaconda3\\envs\\lda_env\\lib\\site-packages\\sklearn\\metrics\\_classification.py:1565: UndefinedMetricWarning: Precision is ill-defined and being set to 0.0 in labels with no predicted samples. Use `zero_division` parameter to control this behavior.\n",
      "  _warn_prf(average, modifier, f\"{metric.capitalize()} is\", len(result))\n"
     ]
    },
    {
     "name": "stdout",
     "output_type": "stream",
     "text": [
      "                                                                                                                                            precision    recall  f1-score   support\n",
      "\n",
      "                                                                                      I haven’t felt this mentally healthy in a long time.       0.00      0.00      0.00         1\n",
      "                                                         anything? What helps you focus on yourself for the purpose of improving yourself?       0.00      0.00      0.00         1\n",
      " getting so excited by something that I barge in despite him saying he wanted space earlier (obviously I get too excited to remember that)       0.00      0.00      0.00         1\n",
      "                                                                                                                            if you do this       0.00      0.00      0.00         1\n",
      "                                                                                                              where I have some experience       0.00      0.00      0.00         1\n",
      "                                                                                                                                      ADHD       0.82      0.84      0.83      7392\n",
      "                                                                                                                                       OCD       0.86      0.86      0.86      8442\n",
      "                                                                                                                                 aspergers       0.74      0.71      0.72      4603\n",
      "                                                                                                                                depression       0.70      0.75      0.72      4646\n",
      "                                                                                                                                      ptsd       0.81      0.75      0.78      4715\n",
      "\n",
      "                                                                                                                                  accuracy                           0.80     29803\n",
      "                                                                                                                                 macro avg       0.39      0.39      0.39     29803\n",
      "                                                                                                                              weighted avg       0.80      0.80      0.80     29803\n",
      "\n",
      "\n",
      "Fold 2 — Acc: 0.7948 | F1(w): 0.7948\n"
     ]
    },
    {
     "name": "stderr",
     "output_type": "stream",
     "text": [
      "c:\\Users\\ASUS-PC\\anaconda3\\envs\\lda_env\\lib\\site-packages\\sklearn\\metrics\\_classification.py:1565: UndefinedMetricWarning: Precision is ill-defined and being set to 0.0 in labels with no predicted samples. Use `zero_division` parameter to control this behavior.\n",
      "  _warn_prf(average, modifier, f\"{metric.capitalize()} is\", len(result))\n",
      "c:\\Users\\ASUS-PC\\anaconda3\\envs\\lda_env\\lib\\site-packages\\sklearn\\metrics\\_classification.py:1565: UndefinedMetricWarning: Precision is ill-defined and being set to 0.0 in labels with no predicted samples. Use `zero_division` parameter to control this behavior.\n",
      "  _warn_prf(average, modifier, f\"{metric.capitalize()} is\", len(result))\n",
      "c:\\Users\\ASUS-PC\\anaconda3\\envs\\lda_env\\lib\\site-packages\\sklearn\\metrics\\_classification.py:1565: UndefinedMetricWarning: Precision is ill-defined and being set to 0.0 in labels with no predicted samples. Use `zero_division` parameter to control this behavior.\n",
      "  _warn_prf(average, modifier, f\"{metric.capitalize()} is\", len(result))\n"
     ]
    },
    {
     "name": "stdout",
     "output_type": "stream",
     "text": [
      "                                                                                                                                                                                                                                                                                                              precision    recall  f1-score   support\n",
      "\n",
      "                                                                                                                                                                                                                                    and considering I don't have a lot of practice with talking on the phone       0.00      0.00      0.00         1\n",
      " but I actually do have strong feelings (non-romantic and/or non-sexual :P) when I'm doing something I love to do. Like extreme elation over dumb stuff like when I read that a protagonist in a book I like finally overcomes the adversity they've been trying to overcome throughout the entire narrative       0.00      0.00      0.00         1\n",
      "                                                                                                                                                                                                                                                                          so obviously I must not be trying.       0.00      0.00      0.00         1\n",
      "                                                                                                                                                                                                                                               sucked in and promoting such a shady organisation has settled       0.00      0.00      0.00         1\n",
      "                                                                                                                                                                                                                                                                    when thinking about what I see in myself       0.00      0.00      0.00         1\n",
      "                                                                                                                                                                                                                                                                                                        ADHD       0.81      0.83      0.82      7391\n",
      "                                                                                                                                                                                                                                                                                                         OCD       0.86      0.86      0.86      8443\n",
      "                                                                                                                                                                                                                                                                                                   aspergers       0.74      0.70      0.72      4603\n",
      "                                                                                                                                                                                                                                                                                                  depression       0.69      0.75      0.72      4646\n",
      "                                                                                                                                                                                                                                                                                                        ptsd       0.82      0.76      0.79      4715\n",
      "\n",
      "                                                                                                                                                                                                                                                                                                    accuracy                           0.79     29803\n",
      "                                                                                                                                                                                                                                                                                                   macro avg       0.39      0.39      0.39     29803\n",
      "                                                                                                                                                                                                                                                                                                weighted avg       0.80      0.79      0.79     29803\n",
      "\n",
      "\n",
      "Fold 3 — Acc: 0.7973 | F1(w): 0.7971\n"
     ]
    },
    {
     "name": "stderr",
     "output_type": "stream",
     "text": [
      "c:\\Users\\ASUS-PC\\anaconda3\\envs\\lda_env\\lib\\site-packages\\sklearn\\metrics\\_classification.py:1565: UndefinedMetricWarning: Precision is ill-defined and being set to 0.0 in labels with no predicted samples. Use `zero_division` parameter to control this behavior.\n",
      "  _warn_prf(average, modifier, f\"{metric.capitalize()} is\", len(result))\n",
      "c:\\Users\\ASUS-PC\\anaconda3\\envs\\lda_env\\lib\\site-packages\\sklearn\\metrics\\_classification.py:1565: UndefinedMetricWarning: Precision is ill-defined and being set to 0.0 in labels with no predicted samples. Use `zero_division` parameter to control this behavior.\n",
      "  _warn_prf(average, modifier, f\"{metric.capitalize()} is\", len(result))\n",
      "c:\\Users\\ASUS-PC\\anaconda3\\envs\\lda_env\\lib\\site-packages\\sklearn\\metrics\\_classification.py:1565: UndefinedMetricWarning: Precision is ill-defined and being set to 0.0 in labels with no predicted samples. Use `zero_division` parameter to control this behavior.\n",
      "  _warn_prf(average, modifier, f\"{metric.capitalize()} is\", len(result))\n"
     ]
    },
    {
     "name": "stdout",
     "output_type": "stream",
     "text": [
      "                                                                                                                            precision    recall  f1-score   support\n",
      "\n",
      "                        and a thoroughly unwell man. However this does not excuse his nefarious behaviour and manipulation       0.00      0.00      0.00         1\n",
      " but it is a little odd to think that the kid would feel the cereal boxes to see how the different types of cardboard felt       0.00      0.00      0.00         1\n",
      "                                                                                     my awareness levels are out of whack.       0.00      0.00      0.00         1\n",
      "   once I'm in the social situation I can sort of  handle it; I just don't like it because of masking and how that drains.       0.00      0.00      0.00         1\n",
      "                                                                                                                       yes       0.00      0.00      0.00         1\n",
      "                                                                                                                      ADHD       0.82      0.85      0.83      7391\n",
      "                                                                                                                       OCD       0.86      0.86      0.86      8442\n",
      "                                                                                                                 aspergers       0.74      0.71      0.72      4604\n",
      "                                                                                                                depression       0.69      0.74      0.71      4645\n",
      "                                                                                                                      ptsd       0.82      0.75      0.78      4716\n",
      "\n",
      "                                                                                                                  accuracy                           0.80     29803\n",
      "                                                                                                                 macro avg       0.39      0.39      0.39     29803\n",
      "                                                                                                              weighted avg       0.80      0.80      0.80     29803\n",
      "\n",
      "\n",
      "Fold 4 — Acc: 0.7931 | F1(w): 0.7932\n"
     ]
    },
    {
     "name": "stderr",
     "output_type": "stream",
     "text": [
      "c:\\Users\\ASUS-PC\\anaconda3\\envs\\lda_env\\lib\\site-packages\\sklearn\\metrics\\_classification.py:1565: UndefinedMetricWarning: Precision is ill-defined and being set to 0.0 in labels with no predicted samples. Use `zero_division` parameter to control this behavior.\n",
      "  _warn_prf(average, modifier, f\"{metric.capitalize()} is\", len(result))\n",
      "c:\\Users\\ASUS-PC\\anaconda3\\envs\\lda_env\\lib\\site-packages\\sklearn\\metrics\\_classification.py:1565: UndefinedMetricWarning: Precision is ill-defined and being set to 0.0 in labels with no predicted samples. Use `zero_division` parameter to control this behavior.\n",
      "  _warn_prf(average, modifier, f\"{metric.capitalize()} is\", len(result))\n",
      "c:\\Users\\ASUS-PC\\anaconda3\\envs\\lda_env\\lib\\site-packages\\sklearn\\metrics\\_classification.py:1565: UndefinedMetricWarning: Precision is ill-defined and being set to 0.0 in labels with no predicted samples. Use `zero_division` parameter to control this behavior.\n",
      "  _warn_prf(average, modifier, f\"{metric.capitalize()} is\", len(result))\n"
     ]
    },
    {
     "name": "stdout",
     "output_type": "stream",
     "text": [
      "                                                                      precision    recall  f1-score   support\n",
      "\n",
      "                                                 but something else.       0.00      0.00      0.00         1\n",
      "                                                          motivation       0.00      0.00      0.00         1\n",
      "                                   or maybe it actually was recently       0.00      0.00      0.00         1\n",
      " or validate some of those who have been affected by his ‘treatment’       0.00      0.00      0.00         1\n",
      "                                                                ADHD       0.82      0.84      0.83      7391\n",
      "                                                                 OCD       0.85      0.85      0.85      8442\n",
      "                                                           aspergers       0.73      0.71      0.72      4604\n",
      "                                                          depression       0.69      0.74      0.71      4645\n",
      "                                                                ptsd       0.80      0.75      0.78      4716\n",
      "                                                              qe5acf       0.00      0.00      0.00         1\n",
      "\n",
      "                                                            accuracy                           0.79     29803\n",
      "                                                           macro avg       0.39      0.39      0.39     29803\n",
      "                                                        weighted avg       0.79      0.79      0.79     29803\n",
      "\n",
      "\n",
      "Fold 5 — Acc: 0.7956 | F1(w): 0.7956\n"
     ]
    },
    {
     "name": "stderr",
     "output_type": "stream",
     "text": [
      "c:\\Users\\ASUS-PC\\anaconda3\\envs\\lda_env\\lib\\site-packages\\sklearn\\metrics\\_classification.py:1565: UndefinedMetricWarning: Precision is ill-defined and being set to 0.0 in labels with no predicted samples. Use `zero_division` parameter to control this behavior.\n",
      "  _warn_prf(average, modifier, f\"{metric.capitalize()} is\", len(result))\n",
      "c:\\Users\\ASUS-PC\\anaconda3\\envs\\lda_env\\lib\\site-packages\\sklearn\\metrics\\_classification.py:1565: UndefinedMetricWarning: Precision is ill-defined and being set to 0.0 in labels with no predicted samples. Use `zero_division` parameter to control this behavior.\n",
      "  _warn_prf(average, modifier, f\"{metric.capitalize()} is\", len(result))\n",
      "c:\\Users\\ASUS-PC\\anaconda3\\envs\\lda_env\\lib\\site-packages\\sklearn\\metrics\\_classification.py:1565: UndefinedMetricWarning: Precision is ill-defined and being set to 0.0 in labels with no predicted samples. Use `zero_division` parameter to control this behavior.\n",
      "  _warn_prf(average, modifier, f\"{metric.capitalize()} is\", len(result))\n"
     ]
    },
    {
     "name": "stdout",
     "output_type": "stream",
     "text": [
      "                                                                                                                                                                                                                            precision    recall  f1-score   support\n",
      "\n",
      "                                                                                                                                                             full stop. There's too many thoughts and too much information       0.00      0.00      0.00         1\n",
      "                                                                                                                                                                                    it's \"\"Am I really good at that though       0.00      0.00      0.00         1\n",
      "                                                                                                                                                                             it's just starting to get on people's nerves.       0.00      0.00      0.00         1\n",
      " not as you are not - and it isn’t the books that are the problem it’s what Rob claims about them being the solution to rendering OCD ‘powerless’ once and for all where nothing could ever disrupt our inner peace again)       0.00      0.00      0.00         1\n",
      "                                                                               or maybe you wanted to see where it would all go in the comments. Maybe you just enjoyed reading it because it was funny to you. Regardless       0.00      0.00      0.00         1\n",
      "                                                                                                                                                                                                                      ADHD       0.82      0.84      0.83      7391\n",
      "                                                                                                                                                                                                                       OCD       0.86      0.85      0.85      8442\n",
      "                                                                                                                                                                                                                 aspergers       0.75      0.70      0.72      4604\n",
      "                                                                                                                                                                                                                depression       0.68      0.74      0.71      4646\n",
      "                                                                                                                                                                                                                      ptsd       0.81      0.76      0.78      4715\n",
      "\n",
      "                                                                                                                                                                                                                  accuracy                           0.80     29803\n",
      "                                                                                                                                                                                                                 macro avg       0.39      0.39      0.39     29803\n",
      "                                                                                                                                                                                                              weighted avg       0.80      0.80      0.80     29803\n",
      "\n",
      "\n",
      "🎯 Mean Acc: 0.7956 | Mean F1(w): 0.7956\n",
      "✅ Saved: C:\\Users\\ASUS-PC\\Desktop\\mindcheck_ai_jupyter\\data\\tfidf_vectorizer.pkl and C:\\Users\\ASUS-PC\\Desktop\\mindcheck_ai_jupyter\\data\\clf.pkl\n"
     ]
    }
   ],
   "source": [
    "\n",
    "# === MODIFY: dataset path ===\n",
    "DATA = r\"C:\\Users\\ASUS-PC\\Desktop\\mindcheck_ai_jupyter\\data\\aimind_cleaned.csv\"\n",
    "\n",
    "# === MODIFY: where to save model artifacts ===\n",
    "OUT_VEC = r\"C:\\Users\\ASUS-PC\\Desktop\\mindcheck_ai_jupyter\\data\\tfidf_vectorizer.pkl\"\n",
    "OUT_CLF = r\"C:\\Users\\ASUS-PC\\Desktop\\mindcheck_ai_jupyter\\data\\clf.pkl\"\n",
    "\n",
    "df = pd.read_csv(DATA)\n",
    "assert {\"confession\",\"label\"}.issubset(df.columns), \"Need 'confession' and 'label' columns\"\n",
    "texts = df[\"confession\"].astype(str).tolist()\n",
    "y = df[\"label\"].astype(str).tolist()\n",
    "\n",
    "vec = TfidfVectorizer(min_df=3, ngram_range=(1,2), max_features=200_000)\n",
    "X = vec.fit_transform(texts)\n",
    "\n",
    "skf = StratifiedKFold(n_splits=5, shuffle=True, random_state=42)\n",
    "accs, f1s = [], []\n",
    "\n",
    "for fold, (tr, te) in enumerate(skf.split(X, y), 1):\n",
    "    clf = LinearSVC()  # try also: LogisticRegression(max_iter=2000, C=2.0)\n",
    "    clf.fit(X[tr], np.array(y)[tr])\n",
    "    pred = clf.predict(X[te])\n",
    "\n",
    "    acc = accuracy_score(np.array(y)[te], pred)\n",
    "    f1  = f1_score(np.array(y)[te], pred, average=\"weighted\")\n",
    "    accs.append(acc); f1s.append(f1)\n",
    "\n",
    "    print(f\"\\nFold {fold} — Acc: {acc:.4f} | F1(w): {f1:.4f}\")\n",
    "    print(classification_report(np.array(y)[te], pred))\n",
    "\n",
    "print(f\"\\n🎯 Mean Acc: {np.mean(accs):.4f} | Mean F1(w): {np.mean(f1s):.4f}\")\n",
    "\n",
    "# Train final on all data\n",
    "final_clf = LinearSVC()\n",
    "final_clf.fit(X, y)\n",
    "joblib.dump(vec, OUT_VEC)\n",
    "joblib.dump(final_clf, OUT_CLF)\n",
    "print(\"✅ Saved:\", OUT_VEC, \"and\", OUT_CLF)"
   ]
  },
  {
   "cell_type": "code",
   "execution_count": null,
   "id": "1f6c20d9",
   "metadata": {},
   "outputs": [],
   "source": []
  }
 ],
 "metadata": {
  "kernelspec": {
   "display_name": "Python (lda_env)",
   "language": "python",
   "name": "lda_env"
  },
  "language_info": {
   "codemirror_mode": {
    "name": "ipython",
    "version": 3
   },
   "file_extension": ".py",
   "mimetype": "text/x-python",
   "name": "python",
   "nbconvert_exporter": "python",
   "pygments_lexer": "ipython3",
   "version": "3.10.16"
  }
 },
 "nbformat": 4,
 "nbformat_minor": 5
}
