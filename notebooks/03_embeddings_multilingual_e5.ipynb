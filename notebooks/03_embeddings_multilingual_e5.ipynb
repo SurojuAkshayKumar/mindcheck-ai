{
 "cells": [
  {
   "cell_type": "code",
   "execution_count": 29,
   "id": "501d3936",
   "metadata": {},
   "outputs": [
    {
     "name": "stdout",
     "output_type": "stream",
     "text": [
      "Model loaded successfully!\n"
     ]
    }
   ],
   "source": [
    "import pandas as pd\n",
    "from sentence_transformers import SentenceTransformer\n",
    "from tqdm import tqdm\n",
    "import numpy as np\n",
    "\n",
    "model = SentenceTransformer('all-MiniLM-L6-v2')\n",
    "print(\"Model loaded successfully!\")\n"
   ]
  },
  {
   "cell_type": "code",
   "execution_count": 30,
   "id": "537b7d99",
   "metadata": {},
   "outputs": [],
   "source": [
    "from sentence_transformers import SentenceTransformer\n",
    "import pandas as pd\n",
    "import numpy as np\n",
    "import os"
   ]
  },
  {
   "cell_type": "code",
   "execution_count": 31,
   "id": "424d194d",
   "metadata": {},
   "outputs": [
    {
     "name": "stdout",
     "output_type": "stream",
     "text": [
      "✅ Model loaded.\n"
     ]
    }
   ],
   "source": [
    "# 3. Load your multilingual E5 model\n",
    "model = SentenceTransformer(\"intfloat/multilingual-e5-base\")\n",
    "print(\"✅ Model loaded.\")"
   ]
  },
  {
   "cell_type": "code",
   "execution_count": 32,
   "id": "50768830",
   "metadata": {},
   "outputs": [
    {
     "name": "stderr",
     "output_type": "stream",
     "text": [
      "C:\\Users\\ASUS-PC\\AppData\\Local\\Temp\\ipykernel_16924\\2523802732.py:3: DtypeWarning: Columns (2) have mixed types. Specify dtype option on import or set low_memory=False.\n",
      "  df = pd.read_csv(data_path)\n"
     ]
    }
   ],
   "source": [
    "# 4. Load your dataset\n",
    "data_path = r\"C:\\Users\\ASUS-PC\\Desktop\\mindcheck_ai_jupyter\\data\\aimind_cleaned.csv\"\n",
    "df = pd.read_csv(data_path)"
   ]
  },
  {
   "cell_type": "code",
   "execution_count": 33,
   "id": "d57f0729",
   "metadata": {},
   "outputs": [],
   "source": [
    "# Ensure there’s a 'text' column\n",
    "assert \"confession\" in df.columns, \"❌ 'confession' column not found in dataset\"\n",
    "df = df.dropna(subset=[\"confession\"]).reset_index(drop=True)"
   ]
  },
  {
   "cell_type": "code",
   "execution_count": 34,
   "id": "11d64237",
   "metadata": {},
   "outputs": [
    {
     "name": "stdout",
     "output_type": "stream",
     "text": [
      "✅ Data loaded. Sample:\n",
      "                                          confession\n",
      "0  New to Vyvanse... Do others get a heady rush f...\n",
      "1  why FUCK is a mental illness supposed to stay ...\n",
      "2  PTSD? Hello. Sorry for my bad english but I ju...\n",
      "3  Found mould in my home Hi all, contamination O...\n",
      "4                             Honestly I wanna die. \n"
     ]
    }
   ],
   "source": [
    "print(\"✅ Data loaded. Sample:\")\n",
    "print(df[[\"confession\"]].head())"
   ]
  },
  {
   "cell_type": "code",
   "execution_count": null,
   "id": "3db8e8f0",
   "metadata": {},
   "outputs": [],
   "source": [
    "# 05_faiss_index_building.ipynb\n",
    "\n",
    "import numpy as np\n",
    "import faiss\n",
    "import pickle\n",
    "\n",
    "# === 1. Load precomputed embeddings and texts ===\n",
    "embeddings = np.load(\"../data/embeddings.npy\")  # Path to embeddings from Notebook 03\n",
    "with open(\"../data/texts.pkl\", \"rb\") as f:\n",
    "    texts = pickle.load(f)\n",
    "\n",
    "print(f\"Loaded {len(texts)} texts with shape {embeddings.shape}\")\n",
    "\n",
    "# === 2. Normalize embeddings for cosine similarity ===\n",
    "embeddings = embeddings.astype(\"float32\")\n",
    "faiss.normalize_L2(embeddings)\n",
    "\n",
    "# === 3. Create FAISS index ===\n",
    "index = faiss.IndexFlatIP(embeddings.shape[1])  # Inner Product = Cosine after normalization\n",
    "index.add(embeddings)\n",
    "\n",
    "print(f\"FAISS index contains {index.ntotal} vectors.\")\n",
    "\n",
    "# === 4. Save index and texts ===\n",
    "faiss.write_index(index, \"../data/mental_health.index\")\n",
    "with open(\"../data/texts.pkl\", \"wb\") as f:\n",
    "    pickle.dump(texts, f)\n",
    "\n",
    "print(\"✅ FAISS index saved to ../data/mental_health.index\")\n"
   ]
  },
  {
   "cell_type": "code",
   "execution_count": 35,
   "id": "9436c53d",
   "metadata": {},
   "outputs": [],
   "source": [
    "texts = df[\"confession\"].astype(str).apply(lambda x: f\"passage: {x}\").tolist()"
   ]
  },
  {
   "cell_type": "code",
   "execution_count": 36,
   "id": "abfaa315",
   "metadata": {},
   "outputs": [
    {
     "name": "stderr",
     "output_type": "stream",
     "text": [
      "Batches: 100%|██████████| 4657/4657 [5:05:34<00:00,  3.94s/it]  \n"
     ]
    }
   ],
   "source": [
    "embeddings = model.encode(\n",
    "    texts,\n",
    "    show_progress_bar=True,\n",
    "    batch_size=32,\n",
    "    normalize_embeddings=True\n",
    ")"
   ]
  },
  {
   "cell_type": "code",
   "execution_count": 37,
   "id": "85f985f8",
   "metadata": {},
   "outputs": [],
   "source": [
    "# 7. Save embeddings\n",
    "output_embeddings = np.array(embeddings)\n",
    "output_ids = df.get(\"id\", df.index)  # use 'id' column if exists, else use index\n"
   ]
  },
  {
   "cell_type": "code",
   "execution_count": 38,
   "id": "33eb0a23",
   "metadata": {},
   "outputs": [],
   "source": [
    "# 8. Create output DataFrame\n",
    "emb_df = pd.DataFrame(output_embeddings)\n",
    "emb_df[\"id\"] = output_ids"
   ]
  },
  {
   "cell_type": "code",
   "execution_count": null,
   "id": "1a0bf659",
   "metadata": {},
   "outputs": [],
   "source": []
  },
  {
   "cell_type": "code",
   "execution_count": 13,
   "id": "f7998d79",
   "metadata": {},
   "outputs": [
    {
     "name": "stdout",
     "output_type": "stream",
     "text": [
      "✅ Embeddings saved to: C:\\Users\\ASUS-PC\\Desktop\\mindcheck_ai_jupyter\\data\\aimind_embeddings.csv\n"
     ]
    }
   ],
   "source": [
    "# 9. Save to CSV\n",
    "output_path = r\"C:\\Users\\ASUS-PC\\Desktop\\mindcheck_ai_jupyter\\data\\aimind_embeddings.csv\"\n",
    "emb_df.to_csv(output_path, index=False)\n",
    "\n",
    "print(f\"✅ Embeddings saved to: {output_path}\")"
   ]
  },
  {
   "cell_type": "code",
   "execution_count": null,
   "id": "530a1aa7",
   "metadata": {},
   "outputs": [],
   "source": []
  }
 ],
 "metadata": {
  "kernelspec": {
   "display_name": "Python (lda_env)",
   "language": "python",
   "name": "lda_env"
  },
  "language_info": {
   "codemirror_mode": {
    "name": "ipython",
    "version": 3
   },
   "file_extension": ".py",
   "mimetype": "text/x-python",
   "name": "python",
   "nbconvert_exporter": "python",
   "pygments_lexer": "ipython3",
   "version": "3.10.16"
  }
 },
 "nbformat": 4,
 "nbformat_minor": 5
}
